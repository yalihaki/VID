{
 "cells": [
  {
   "cell_type": "markdown",
   "metadata": {},
   "source": [
    "### Exercise 1: Creating and Manipulating NumPy Arrays"
   ]
  },
  {
   "cell_type": "markdown",
   "metadata": {},
   "source": [
    "- Create a 1D NumPy array from the list [5, 10, 15, 20, 25]. Convert the array to type float64 and print it."
   ]
  },
  {
   "cell_type": "code",
   "execution_count": 11,
   "metadata": {},
   "outputs": [
    {
     "name": "stdout",
     "output_type": "stream",
     "text": [
      "1D Array (float64):\n",
      " [ 5. 10. 15. 20. 25.]\n"
     ]
    }
   ],
   "source": [
    "import numpy as np\n",
    "\n",
    "array_1d = np.array([5, 10, 15, 20, 25], dtype=np.float64)\n",
    "print(\"1D Array (float64):\\n\",array_1d)"
   ]
  },
  {
   "cell_type": "markdown",
   "metadata": {},
   "source": [
    "- Create a 2D NumPy array from the nested list [[1, 2, 3], [4, 5, 6], [7, 8, 9]]. Print the shape and size of the array."
   ]
  },
  {
   "cell_type": "code",
   "execution_count": 12,
   "metadata": {},
   "outputs": [
    {
     "name": "stdout",
     "output_type": "stream",
     "text": [
      "2D Array: \n",
      "[[1 2 3]\n",
      " [4 5 6]\n",
      " [7 8 9]] \n",
      "Shape of 2D Array: (3, 3)\n",
      "Size of 2D Array: 9\n"
     ]
    }
   ],
   "source": [
    "array_2d = np.array([[1, 2, 3], [4, 5, 6], [7, 8, 9]])\n",
    "print(f\"2D Array: \\n{array_2d} \")\n",
    "print(\"Shape of 2D Array:\", array_2d.shape)\n",
    "print(\"Size of 2D Array:\", array_2d.size)"
   ]
  },
  {
   "cell_type": "markdown",
   "metadata": {},
   "source": [
    "- Create a 3D NumPy array with random values of shape (2, 3, 4). Print the number of dimensions and the shape of the array."
   ]
  },
  {
   "cell_type": "code",
   "execution_count": 13,
   "metadata": {},
   "outputs": [
    {
     "name": "stdout",
     "output_type": "stream",
     "text": [
      "3D Array (random values):\n",
      " [[[0.14703471 0.38718165 0.26868622 0.640702  ]\n",
      "  [0.26594712 0.21452328 0.44768175 0.77797813]\n",
      "  [0.92313641 0.18798673 0.34075421 0.10749992]]\n",
      "\n",
      " [[0.38696327 0.55881937 0.23898668 0.69252025]\n",
      "  [0.85581402 0.70703936 0.35016019 0.9098193 ]\n",
      "  [0.94267053 0.83769103 0.88237805 0.15124736]]]\n",
      "Number of dimensions of 3D Array: 3\n",
      "Shape of 3D Array: (2, 3, 4)\n"
     ]
    }
   ],
   "source": [
    "array_3d = np.random.random((2, 3, 4))\n",
    "print(\"3D Array (random values):\\n\", array_3d )\n",
    "print(\"Number of dimensions of 3D Array:\", array_3d.ndim)\n",
    "print(\"Shape of 3D Array:\", array_3d.shape)"
   ]
  },
  {
   "cell_type": "markdown",
   "metadata": {},
   "source": [
    "### Exercise 2: Advanced Array Manipulations"
   ]
  },
  {
   "cell_type": "markdown",
   "metadata": {},
   "source": [
    "- Create a 1D NumPy array with the numbers from 0 to 9. Reverse the array and print it."
   ]
  },
  {
   "cell_type": "code",
   "execution_count": 14,
   "metadata": {},
   "outputs": [
    {
     "name": "stdout",
     "output_type": "stream",
     "text": [
      "Reversed 1D Array:\n",
      " [9 8 7 6 5 4 3 2 1 0]\n"
     ]
    }
   ],
   "source": [
    "array_1d = np.arange(10)\n",
    "array_1d_reversed = array_1d[::-1]  # Reversing using slicing\n",
    "print(\"Reversed 1D Array:\\n\", array_1d_reversed)"
   ]
  },
  {
   "cell_type": "markdown",
   "metadata": {},
   "source": [
    "- Create a 2D NumPy array with the numbers from 0 to 11, arranged in a 3x4 shape. Extract a subarray consisting of the first two rows and the last two columns, and print it."
   ]
  },
  {
   "cell_type": "code",
   "execution_count": 16,
   "metadata": {},
   "outputs": [
    {
     "name": "stdout",
     "output_type": "stream",
     "text": [
      "2D Array (3x4):\n",
      " [[ 0  1  2  3]\n",
      " [ 4  5  6  7]\n",
      " [ 8  9 10 11]]\n",
      "\n",
      "Subarray (first two rows, last two columns):\n",
      " [[2 3]\n",
      " [6 7]]\n"
     ]
    }
   ],
   "source": [
    "array_2d = np.arange(12).reshape(3, 4)\n",
    "print(\"2D Array (3x4):\\n\", array_2d)\n",
    "\n",
    "# Extract subarray: first two rows, last two columns\n",
    "subarray = array_2d[:2, -2:]  # [:2] for first two rows, [-2:] for last two columns\n",
    "print(\"\\nSubarray (first two rows, last two columns):\\n\", subarray)"
   ]
  },
  {
   "cell_type": "markdown",
   "metadata": {},
   "source": [
    "- Create a 2D NumPy array of shape (5, 5) with random integers between 0 and 10. Replace all elements greater than 5 with 0 and print the modified array."
   ]
  },
  {
   "cell_type": "code",
   "execution_count": 17,
   "metadata": {},
   "outputs": [
    {
     "name": "stdout",
     "output_type": "stream",
     "text": [
      "Original 5x5 Array with Random Integers:\n",
      "[[ 7  8 10  4  7]\n",
      " [ 0  5  8  3 10]\n",
      " [10  8  1  3  8]\n",
      " [ 5  7  3  7  9]\n",
      " [ 9  0  7  1  9]]\n",
      "\n",
      "Modified 5x5 Array (elements > 5 replaced with 0):\n",
      "[[0 0 0 4 0]\n",
      " [0 5 0 3 0]\n",
      " [0 0 1 3 0]\n",
      " [5 0 3 0 0]\n",
      " [0 0 0 1 0]]\n"
     ]
    }
   ],
   "source": [
    "array_random = np.random.randint(0, 11, (5, 5))\n",
    "print(\"Original 5x5 Array with Random Integers:\")\n",
    "print(array_random)\n",
    "\n",
    "# Replace all elements greater than 5 with 0\n",
    "array_random[array_random > 5] = 0\n",
    "print(\"\\nModified 5x5 Array (elements > 5 replaced with 0):\")\n",
    "print(array_random)"
   ]
  },
  {
   "cell_type": "markdown",
   "metadata": {},
   "source": [
    "### Exercise 3: Array Initialization and Attributes"
   ]
  },
  {
   "cell_type": "markdown",
   "metadata": {},
   "source": [
    "- Create a 3x3 identity matrix using NumPy and print its attributes: ndim, shape, size, itemsize, and nbytes."
   ]
  },
  {
   "cell_type": "code",
   "execution_count": 18,
   "metadata": {},
   "outputs": [
    {
     "name": "stdout",
     "output_type": "stream",
     "text": [
      "3x3 Identity Matrix:\n",
      "[[1. 0. 0.]\n",
      " [0. 1. 0.]\n",
      " [0. 0. 1.]]\n",
      "\n",
      "Attributes of the identity matrix:\n",
      "Number of dimensions (ndim): 2\n",
      "Shape: (3, 3)\n",
      "Size (total number of elements): 9\n",
      "Item size (bytes per element): 8\n",
      "Total bytes (nbytes): 72\n"
     ]
    }
   ],
   "source": [
    "identity_matrix = np.eye(3)  # Identity matrix of size 3x3\n",
    "print(\"3x3 Identity Matrix:\")\n",
    "print(identity_matrix)\n",
    "\n",
    "# Print attributes of the identity matrix\n",
    "print(\"\\nAttributes of the identity matrix:\")\n",
    "print(f\"Number of dimensions (ndim): {identity_matrix.ndim}\")\n",
    "print(f\"Shape: {identity_matrix.shape}\")\n",
    "print(f\"Size (total number of elements): {identity_matrix.size}\")\n",
    "print(f\"Item size (bytes per element): {identity_matrix.itemsize}\")\n",
    "print(f\"Total bytes (nbytes): {identity_matrix.nbytes}\")"
   ]
  },
  {
   "cell_type": "markdown",
   "metadata": {},
   "source": [
    "- Create an array of 10 evenly spaced numbers between 0 and 5 using numpy.linspace(). Print the array and its datatype."
   ]
  },
  {
   "cell_type": "code",
   "execution_count": 19,
   "metadata": {},
   "outputs": [
    {
     "name": "stdout",
     "output_type": "stream",
     "text": [
      "Array of 10 evenly spaced numbers between 0 and 5:\n",
      "[0.         0.55555556 1.11111111 1.66666667 2.22222222 2.77777778\n",
      " 3.33333333 3.88888889 4.44444444 5.        ]\n",
      "\n",
      "Data type of the array: float64\n"
     ]
    }
   ],
   "source": [
    "evenly_spaced_array = np.linspace(0, 5, 10)  # 10 numbers between 0 and 5\n",
    "print(\"Array of 10 evenly spaced numbers between 0 and 5:\")\n",
    "print(evenly_spaced_array)\n",
    "print(f\"\\nData type of the array: {evenly_spaced_array.dtype}\")"
   ]
  },
  {
   "cell_type": "markdown",
   "metadata": {},
   "source": [
    "- Create a 3D array of shape (2, 3, 4) with random values from a standard normal distribution. Print the array and the sum of all elements."
   ]
  },
  {
   "cell_type": "code",
   "execution_count": 20,
   "metadata": {},
   "outputs": [
    {
     "name": "stdout",
     "output_type": "stream",
     "text": [
      "3D Array with random values from standard normal distribution:\n",
      "[[[ 1.02067901 -1.40149147 -1.45074188 -0.84498186]\n",
      "  [-0.52068314 -1.45249197 -0.46021779 -0.13150469]\n",
      "  [-0.49876507  0.54825028 -1.85056726  0.07994238]]\n",
      "\n",
      " [[-1.80879998  1.16645548 -0.21484163  0.32795484]\n",
      "  [ 0.47320416 -1.84568985 -0.50082619 -0.64422876]\n",
      "  [-1.31978009  1.45690115  1.39338792  0.99157436]]]\n",
      "\n",
      "Sum of all elements in the 3D array: -7.487262043946821\n"
     ]
    }
   ],
   "source": [
    "random_3d_array = np.random.randn(2, 3, 4)  # Shape (2, 3, 4) with values from normal distribution\n",
    "print(\"3D Array with random values from standard normal distribution:\")\n",
    "print(random_3d_array)\n",
    "\n",
    "# Calculate and print the sum of all elements\n",
    "array_sum = random_3d_array.sum()\n",
    "print(f\"\\nSum of all elements in the 3D array: {array_sum}\")"
   ]
  },
  {
   "cell_type": "markdown",
   "metadata": {},
   "source": [
    "### Exercise 4: Fancy Indexing and Masking"
   ]
  },
  {
   "cell_type": "markdown",
   "metadata": {},
   "source": [
    "- Create a 1D NumPy array with random integers between 0 and 50 of size 20. Use fancy indexing to extract elements at indices [2, 5, 7, 10, 15] and print them."
   ]
  },
  {
   "cell_type": "code",
   "execution_count": 21,
   "metadata": {},
   "outputs": [
    {
     "name": "stdout",
     "output_type": "stream",
     "text": [
      "1D Array with Random Integers (0 to 50):\n",
      "[15 34 15  1 33 39 34 14  2 20 45 48 41 14 44 22 24 37 20  1]\n",
      "\n",
      "Elements at indices [2, 5, 7, 10, 15]:\n",
      "[15 39 14 45 22]\n"
     ]
    }
   ],
   "source": [
    "array_1d_random = np.random.randint(0, 50, 20)\n",
    "print(\"1D Array with Random Integers (0 to 50):\")\n",
    "print(array_1d_random)\n",
    "\n",
    "# Use fancy indexing to extract elements at indices [2, 5, 7, 10, 15]\n",
    "fancy_indices = [2, 5, 7, 10, 15]\n",
    "fancy_extraction = array_1d_random[fancy_indices]\n",
    "print(\"\\nElements at indices [2, 5, 7, 10, 15]:\")\n",
    "print(fancy_extraction)"
   ]
  },
  {
   "cell_type": "markdown",
   "metadata": {},
   "source": [
    "- Create a 2D NumPy array with random integers between 0 and 30 of shape (4, 5). Use a boolean mask to select all elements greater than 15 and print them."
   ]
  },
  {
   "cell_type": "code",
   "execution_count": 22,
   "metadata": {},
   "outputs": [
    {
     "name": "stdout",
     "output_type": "stream",
     "text": [
      "2D Array with Random Integers (0 to 30):\n",
      "[[19 20 24 18 15]\n",
      " [28  7 21  6 27]\n",
      " [ 9 10 22 19 12]\n",
      " [21 24 21  8  1]]\n",
      "\n",
      "Elements greater than 15:\n",
      "[19 20 24 18 28 21 27 22 19 21 24 21]\n"
     ]
    }
   ],
   "source": [
    "array_2d_random = np.random.randint(0, 30, (4, 5))\n",
    "print(\"2D Array with Random Integers (0 to 30):\")\n",
    "print(array_2d_random)\n",
    "\n",
    "# Use a boolean mask to select elements greater than 15\n",
    "mask_greater_than_15 = array_2d_random[array_2d_random > 15]\n",
    "print(\"\\nElements greater than 15:\")\n",
    "print(mask_greater_than_15)"
   ]
  },
  {
   "cell_type": "markdown",
   "metadata": {},
   "source": [
    "- Create a 1D NumPy array of 10 random integers between -10 and 10. Use a boolean mask to set all negative values to zero and print the modified array."
   ]
  },
  {
   "cell_type": "code",
   "execution_count": 23,
   "metadata": {},
   "outputs": [
    {
     "name": "stdout",
     "output_type": "stream",
     "text": [
      "\n",
      "1D Array with Random Integers (-10 to 10):\n",
      "[  8  -7   8   9   1   1  -2 -10   1   7]\n",
      "\n",
      "Modified Array (negative values set to 0):\n",
      "[8 0 8 9 1 1 0 0 1 7]\n"
     ]
    }
   ],
   "source": [
    "array_1d_negative = np.random.randint(-10, 10, 10)\n",
    "print(\"\\n1D Array with Random Integers (-10 to 10):\")\n",
    "print(array_1d_negative)\n",
    "\n",
    "# Use a boolean mask to set all negative values to 0\n",
    "array_1d_negative[array_1d_negative < 0] = 0\n",
    "print(\"\\nModified Array (negative values set to 0):\")\n",
    "print(array_1d_negative)"
   ]
  },
  {
   "cell_type": "markdown",
   "metadata": {},
   "source": [
    "### Exercise 5: Combining and Splitting Arrays"
   ]
  },
  {
   "cell_type": "markdown",
   "metadata": {},
   "source": [
    "- Create two 1D NumPy arrays of length 5 with random integers between 0 and 10. Concatenate the two arrays and print the result."
   ]
  },
  {
   "cell_type": "code",
   "execution_count": 25,
   "metadata": {},
   "outputs": [
    {
     "name": "stdout",
     "output_type": "stream",
     "text": [
      "Array 1: [5 5 2 2 9]\n",
      "Array 2: [2 8 8 4 1]\n",
      "\n",
      "Concatenated Array: [5 5 2 2 9 2 8 8 4 1]\n"
     ]
    }
   ],
   "source": [
    "import numpy as np\n",
    "\n",
    "array1 = np.random.randint(0, 10, 5)\n",
    "array2 = np.random.randint(0, 10, 5)\n",
    "print(\"Array 1:\", array1)\n",
    "print(\"Array 2:\", array2)\n",
    "\n",
    "# Concatenation des deux tableaux\n",
    "concatenated_array = np.concatenate((array1, array2))\n",
    "print(\"\\nConcatenated Array:\", concatenated_array)"
   ]
  },
  {
   "cell_type": "markdown",
   "metadata": {},
   "source": [
    "- Create a 2D NumPy array of shape (6, 4) with random integers between 0 and 10. Split the array into two equal parts along the row axis and print them."
   ]
  },
  {
   "cell_type": "code",
   "execution_count": 26,
   "metadata": {},
   "outputs": [
    {
     "name": "stdout",
     "output_type": "stream",
     "text": [
      "\n",
      "2D Array (6x4):\n",
      "[[2 3 7 2]\n",
      " [6 3 8 8]\n",
      " [9 0 3 2]\n",
      " [6 8 0 3]\n",
      " [8 9 5 3]\n",
      " [5 6 9 7]]\n",
      "\n",
      "Split Arrays along row axis:\n",
      "Part 1:\n",
      "[[2 3 7 2]\n",
      " [6 3 8 8]\n",
      " [9 0 3 2]]\n",
      "Part 2:\n",
      "[[6 8 0 3]\n",
      " [8 9 5 3]\n",
      " [5 6 9 7]]\n"
     ]
    }
   ],
   "source": [
    "array_2d = np.random.randint(0, 10, (6, 4))\n",
    "print(\"\\n2D Array (6x4):\")\n",
    "print(array_2d)\n",
    "\n",
    "# Diviser le tableau en deux parties égales le long de l'axe des lignes\n",
    "split_arrays = np.array_split(array_2d, 2, axis=0)\n",
    "print(\"\\nSplit Arrays along row axis:\")\n",
    "for i, split_array in enumerate(split_arrays):\n",
    "    print(f\"Part {i + 1}:\\n{split_array}\")"
   ]
  },
  {
   "cell_type": "markdown",
   "metadata": {},
   "source": [
    "- Create a 2D NumPy array of shape (3, 6) with random integers between 0 and 10. Split the array into three equal parts along the column axis and print them."
   ]
  },
  {
   "cell_type": "code",
   "execution_count": 27,
   "metadata": {},
   "outputs": [
    {
     "name": "stdout",
     "output_type": "stream",
     "text": [
      "\n",
      "2D Array (3x6):\n",
      "[[3 9 8 0 4 3]\n",
      " [7 6 5 6 6 3]\n",
      " [4 1 5 5 1 2]]\n",
      "\n",
      "Split Arrays along column axis:\n",
      "Part 1:\n",
      "[[3 9]\n",
      " [7 6]\n",
      " [4 1]]\n",
      "Part 2:\n",
      "[[8 0]\n",
      " [5 6]\n",
      " [5 5]]\n",
      "Part 3:\n",
      "[[4 3]\n",
      " [6 3]\n",
      " [1 2]]\n"
     ]
    }
   ],
   "source": [
    "array_2d_split = np.random.randint(0, 10, (3, 6))\n",
    "print(\"\\n2D Array (3x6):\")\n",
    "print(array_2d_split)\n",
    "\n",
    "# Diviser le tableau en trois parties égales le long de l'axe des colonnes\n",
    "split_columns = np.array_split(array_2d_split, 3, axis=1)\n",
    "print(\"\\nSplit Arrays along column axis:\")\n",
    "for i, split_array in enumerate(split_columns):\n",
    "    print(f\"Part {i + 1}:\\n{split_array}\")"
   ]
  },
  {
   "cell_type": "markdown",
   "metadata": {},
   "source": [
    "### Exercise 6: Mathematical Functions and Aggregations\n",
    "\n",
    "\n",
    "\n",
    "\n",
    "\n"
   ]
  },
  {
   "cell_type": "markdown",
   "metadata": {},
   "source": [
    "- Create a 1D NumPy array with random integers between 1 and 100 of size 15. Compute and print the mean, median, standard deviation, and variance of the array."
   ]
  },
  {
   "cell_type": "code",
   "execution_count": 28,
   "metadata": {},
   "outputs": [
    {
     "name": "stdout",
     "output_type": "stream",
     "text": [
      "1D Array with Random Integers (1 to 100):\n",
      "[ 42   9  32  60  12  77  33  45  57  58  71  82  35  42 100]\n",
      "\n",
      "Statistics:\n",
      "Mean: 50.333333333333336\n",
      "Median: 45.0\n",
      "Standard Deviation: 24.52391123418575\n",
      "Variance: 601.4222222222221\n"
     ]
    }
   ],
   "source": [
    "import numpy as np\n",
    "\n",
    "array_1d = np.random.randint(1, 101, 15)\n",
    "print(\"1D Array with Random Integers (1 to 100):\")\n",
    "print(array_1d)\n",
    "\n",
    "# Compute and print mean, median, standard deviation, and variance\n",
    "mean_val = np.mean(array_1d)\n",
    "median_val = np.median(array_1d)\n",
    "std_dev = np.std(array_1d)\n",
    "variance_val = np.var(array_1d)\n",
    "\n",
    "print(\"\\nStatistics:\")\n",
    "print(f\"Mean: {mean_val}\")\n",
    "print(f\"Median: {median_val}\")\n",
    "print(f\"Standard Deviation: {std_dev}\")\n",
    "print(f\"Variance: {variance_val}\")"
   ]
  },
  {
   "cell_type": "markdown",
   "metadata": {},
   "source": [
    "- Create a 2D NumPy array of shape (4, 4) with random integers between 1 and 50. Compute and print the sum of each row and each column."
   ]
  },
  {
   "cell_type": "code",
   "execution_count": 29,
   "metadata": {},
   "outputs": [
    {
     "name": "stdout",
     "output_type": "stream",
     "text": [
      "\n",
      "2D Array (4x4):\n",
      "[[17 35 24 39]\n",
      " [ 4 32 38 22]\n",
      " [40 21 19 38]\n",
      " [17 31 13 43]]\n",
      "\n",
      "Sum of each row:\n",
      "[115  96 118 104]\n",
      "Sum of each column:\n",
      "[ 78 119  94 142]\n"
     ]
    }
   ],
   "source": [
    "array_2d = np.random.randint(1, 51, (4, 4))\n",
    "print(\"\\n2D Array (4x4):\")\n",
    "print(array_2d)\n",
    "\n",
    "# Compute and print the sum of each row and each column\n",
    "row_sums = np.sum(array_2d, axis=1)\n",
    "col_sums = np.sum(array_2d, axis=0)\n",
    "print(\"\\nSum of each row:\")\n",
    "print(row_sums)\n",
    "print(\"Sum of each column:\")\n",
    "print(col_sums)"
   ]
  },
  {
   "cell_type": "markdown",
   "metadata": {},
   "source": [
    "- Create a 3D NumPy array of shape (2, 3, 4) with random integers between 1 and 20. Find the maximum and minimum values along each axis and print them."
   ]
  },
  {
   "cell_type": "code",
   "execution_count": 30,
   "metadata": {},
   "outputs": [
    {
     "name": "stdout",
     "output_type": "stream",
     "text": [
      "\n",
      "3D Array (2x3x4):\n",
      "[[[ 1  5  7  2]\n",
      "  [ 9  9  4 10]\n",
      "  [18  3  1 20]]\n",
      "\n",
      " [[ 5 16 20  3]\n",
      "  [ 4 19 18 17]\n",
      "  [ 7  3 18  2]]]\n",
      "\n",
      "Maximum values along each axis:\n",
      "Max along axis 0:\n",
      "[[ 5 16 20  3]\n",
      " [ 9 19 18 17]\n",
      " [18  3 18 20]]\n",
      "Max along axis 1:\n",
      "[[18  9  7 20]\n",
      " [ 7 19 20 17]]\n",
      "Max along axis 2:\n",
      "[[ 7 10 20]\n",
      " [20 19 18]]\n",
      "\n",
      "Minimum values along each axis:\n",
      "Min along axis 0:\n",
      "[[ 1  5  7  2]\n",
      " [ 4  9  4 10]\n",
      " [ 7  3  1  2]]\n",
      "Min along axis 1:\n",
      "[[ 1  3  1  2]\n",
      " [ 4  3 18  2]]\n",
      "Min along axis 2:\n",
      "[[1 4 1]\n",
      " [3 4 2]]\n"
     ]
    }
   ],
   "source": [
    "array_3d = np.random.randint(1, 21, (2, 3, 4))\n",
    "print(\"\\n3D Array (2x3x4):\")\n",
    "print(array_3d)\n",
    "\n",
    "# Find the maximum and minimum along each axis\n",
    "max_axis0 = np.max(array_3d, axis=0)\n",
    "max_axis1 = np.max(array_3d, axis=1)\n",
    "max_axis2 = np.max(array_3d, axis=2)\n",
    "\n",
    "min_axis0 = np.min(array_3d, axis=0)\n",
    "min_axis1 = np.min(array_3d, axis=1)\n",
    "min_axis2 = np.min(array_3d, axis=2)\n",
    "\n",
    "print(\"\\nMaximum values along each axis:\")\n",
    "print(f\"Max along axis 0:\\n{max_axis0}\")\n",
    "print(f\"Max along axis 1:\\n{max_axis1}\")\n",
    "print(f\"Max along axis 2:\\n{max_axis2}\")\n",
    "\n",
    "print(\"\\nMinimum values along each axis:\")\n",
    "print(f\"Min along axis 0:\\n{min_axis0}\")\n",
    "print(f\"Min along axis 1:\\n{min_axis1}\")\n",
    "print(f\"Min along axis 2:\\n{min_axis2}\")"
   ]
  },
  {
   "cell_type": "markdown",
   "metadata": {},
   "source": [
    "### Exercise 7: Reshaping and Transposing Arrays\n"
   ]
  },
  {
   "cell_type": "markdown",
   "metadata": {},
   "source": [
    "- Create a 1D NumPy array with the numbers from 1 to 12. Reshape the array to a 2D array of shape (3, 4) and print it."
   ]
  },
  {
   "cell_type": "code",
   "execution_count": 34,
   "metadata": {},
   "outputs": [
    {
     "name": "stdout",
     "output_type": "stream",
     "text": [
      "1D Array with numbers from 1 to 12:\n",
      "[ 1  2  3  4  5  6  7  8  9 10 11 12]\n",
      "\n",
      "Reshaped to 2D array (3x4):\n",
      "[[ 1  2  3  4]\n",
      " [ 5  6  7  8]\n",
      " [ 9 10 11 12]]\n"
     ]
    }
   ],
   "source": [
    "array_1d = np.arange(1, 13)\n",
    "print(\"1D Array with numbers from 1 to 12:\")\n",
    "print(array_1d)\n",
    "\n",
    "# Remodifier le tableau à une forme 2D de (3, 4)\n",
    "array_reshaped = array_1d.reshape(3, 4)\n",
    "print(\"\\nReshaped to 2D array (3x4):\")\n",
    "print(array_reshaped)"
   ]
  },
  {
   "cell_type": "markdown",
   "metadata": {},
   "source": [
    "- Create a 2D NumPy array of shape (3, 4) with random integers between 1 and 10. Transpose the array and print the transposed array."
   ]
  },
  {
   "cell_type": "code",
   "execution_count": 35,
   "metadata": {},
   "outputs": [
    {
     "name": "stdout",
     "output_type": "stream",
     "text": [
      "\n",
      "2D Array (3x4) with random integers between 1 and 10:\n",
      "[[ 9  2 10  3]\n",
      " [ 7 10  1  6]\n",
      " [ 8  4  6  2]]\n",
      "\n",
      "Transposed Array (4x3):\n",
      "[[ 9  7  8]\n",
      " [ 2 10  4]\n",
      " [10  1  6]\n",
      " [ 3  6  2]]\n"
     ]
    }
   ],
   "source": [
    "array_2d_random = np.random.randint(1, 11, (3, 4))\n",
    "print(\"\\n2D Array (3x4) with random integers between 1 and 10:\")\n",
    "print(array_2d_random)\n",
    "\n",
    "# Transposer le tableau\n",
    "array_transposed = array_2d_random.T\n",
    "print(\"\\nTransposed Array (4x3):\")\n",
    "print(array_transposed)"
   ]
  },
  {
   "cell_type": "markdown",
   "metadata": {},
   "source": [
    "- Create a 2D NumPy array of shape (2, 3) with random integers between 1 and 10. Flatten the array to 1D and print the result."
   ]
  },
  {
   "cell_type": "code",
   "execution_count": 36,
   "metadata": {},
   "outputs": [
    {
     "name": "stdout",
     "output_type": "stream",
     "text": [
      "\n",
      "2D Array (2x3) with random integers between 1 and 10:\n",
      "[[10  1  6]\n",
      " [ 8  5  1]]\n",
      "\n",
      "Flattened Array (1D):\n",
      "[10  1  6  8  5  1]\n"
     ]
    }
   ],
   "source": [
    "array_2d_flatten = np.random.randint(1, 11, (2, 3))\n",
    "print(\"\\n2D Array (2x3) with random integers between 1 and 10:\")\n",
    "print(array_2d_flatten)\n",
    "\n",
    "# Aplatir le tableau en 1D\n",
    "array_flattened = array_2d_flatten.flatten()\n",
    "print(\"\\nFlattened Array (1D):\")\n",
    "print(array_flattened)"
   ]
  },
  {
   "cell_type": "markdown",
   "metadata": {},
   "source": [
    "### Exercise 8: Broadcasting and Vectorized Operations"
   ]
  },
  {
   "cell_type": "markdown",
   "metadata": {},
   "source": [
    "- Create a 2D NumPy array of shape (3, 4) with random integers between 1 and 10. Subtract the mean of each column from the respective column elements and print the result."
   ]
  },
  {
   "cell_type": "code",
   "execution_count": 37,
   "metadata": {},
   "outputs": [
    {
     "name": "stdout",
     "output_type": "stream",
     "text": [
      "Original 2D Array (3x4):\n",
      "[[ 6  5  9  1]\n",
      " [ 8  7  2  2]\n",
      " [ 4 10  7  9]]\n",
      "\n",
      "Array after subtracting column means:\n",
      "[[ 0.         -2.33333333  3.         -3.        ]\n",
      " [ 2.         -0.33333333 -4.         -2.        ]\n",
      " [-2.          2.66666667  1.          5.        ]]\n"
     ]
    }
   ],
   "source": [
    "array_2d = np.random.randint(1, 11, (3, 4))\n",
    "print(\"Original 2D Array (3x4):\")\n",
    "print(array_2d)\n",
    "\n",
    "# Subtract the mean of each column from the respective column elements\n",
    "column_means = np.mean(array_2d, axis=0)  # Calculate mean along columns\n",
    "array_mean_subtracted = array_2d - column_means  # Broadcasting subtraction\n",
    "print(\"\\nArray after subtracting column means:\")\n",
    "print(array_mean_subtracted)"
   ]
  },
  {
   "cell_type": "markdown",
   "metadata": {},
   "source": [
    "- Create two 1D NumPy arrays of length 4 with random integers between 1 and 5. Use broadcasting to compute and print the outer product of the two arrays."
   ]
  },
  {
   "cell_type": "code",
   "execution_count": 38,
   "metadata": {},
   "outputs": [
    {
     "name": "stdout",
     "output_type": "stream",
     "text": [
      "\n",
      "1D Array 1: [4 2 5 3]\n",
      "1D Array 2: [4 3 5 1]\n",
      "\n",
      "Outer Product of the two arrays:\n",
      "[[16 12 20  4]\n",
      " [ 8  6 10  2]\n",
      " [20 15 25  5]\n",
      " [12  9 15  3]]\n"
     ]
    }
   ],
   "source": [
    "array1 = np.random.randint(1, 6, 4)\n",
    "array2 = np.random.randint(1, 6, 4)\n",
    "print(\"\\n1D Array 1:\", array1)\n",
    "print(\"1D Array 2:\", array2)\n",
    "\n",
    "# Compute the outer product using broadcasting\n",
    "outer_product = np.outer(array1, array2)\n",
    "print(\"\\nOuter Product of the two arrays:\")\n",
    "print(outer_product)"
   ]
  },
  {
   "cell_type": "markdown",
   "metadata": {},
   "source": [
    "- Create a 2D NumPy array of shape (4, 5) with random integers between 1 and 10. Add 10 to all elements of the array that are greater than 5 and print the modified array."
   ]
  },
  {
   "cell_type": "code",
   "execution_count": 39,
   "metadata": {},
   "outputs": [
    {
     "name": "stdout",
     "output_type": "stream",
     "text": [
      "\n",
      "Original 2D Array (4x5):\n",
      "[[ 7  6  8  6  4]\n",
      " [ 8  8  7 10  7]\n",
      " [ 1  2  1  5  2]\n",
      " [ 1  3  9  4  2]]\n",
      "\n",
      "Modified Array (elements > 5 increased by 10):\n",
      "[[17 16 18 16  4]\n",
      " [18 18 17 20 17]\n",
      " [ 1  2  1  5  2]\n",
      " [ 1  3 19  4  2]]\n"
     ]
    }
   ],
   "source": [
    "array_2d_large = np.random.randint(1, 11, (4, 5))\n",
    "print(\"\\nOriginal 2D Array (4x5):\")\n",
    "print(array_2d_large)\n",
    "\n",
    "# Add 10 to all elements greater than 5\n",
    "array_modified = np.where(array_2d_large > 5, array_2d_large + 10, array_2d_large)\n",
    "print(\"\\nModified Array (elements > 5 increased by 10):\")\n",
    "print(array_modified)"
   ]
  },
  {
   "cell_type": "markdown",
   "metadata": {},
   "source": [
    "### Exercise 9: Sorting and Searching Arrays"
   ]
  },
  {
   "cell_type": "markdown",
   "metadata": {},
   "source": [
    "- Create a 1D NumPy array with random integers between 1 and 20 of size 10. Sort the array in ascending order and print the sorted array."
   ]
  },
  {
   "cell_type": "code",
   "execution_count": 40,
   "metadata": {},
   "outputs": [
    {
     "name": "stdout",
     "output_type": "stream",
     "text": [
      "Original 1D Array:\n",
      "[10 12 11 19  6  3  4 18 20  8]\n",
      "\n",
      "Sorted 1D Array (ascending order):\n",
      "[ 3  4  6  8 10 11 12 18 19 20]\n"
     ]
    }
   ],
   "source": [
    "array_1d = np.random.randint(1, 21, 10)\n",
    "print(\"Original 1D Array:\")\n",
    "print(array_1d)\n",
    "\n",
    "# Trier le tableau en ordre croissant\n",
    "sorted_array = np.sort(array_1d)\n",
    "print(\"\\nSorted 1D Array (ascending order):\")\n",
    "print(sorted_array)"
   ]
  },
  {
   "cell_type": "markdown",
   "metadata": {},
   "source": [
    "- Create a 2D NumPy array of shape (3, 5) with random integers between 1 and 50. Sort the array by the second column and print the result."
   ]
  },
  {
   "cell_type": "code",
   "execution_count": 41,
   "metadata": {},
   "outputs": [
    {
     "name": "stdout",
     "output_type": "stream",
     "text": [
      "\n",
      "Original 2D Array (3x5):\n",
      "[[20 42 32 12  7]\n",
      " [16 33 18 42 15]\n",
      " [19 48 12 11 15]]\n",
      "\n",
      "2D Array sorted by second column:\n",
      "[[16 33 18 42 15]\n",
      " [20 42 32 12  7]\n",
      " [19 48 12 11 15]]\n"
     ]
    }
   ],
   "source": [
    "array_2d = np.random.randint(1, 51, (3, 5))\n",
    "print(\"\\nOriginal 2D Array (3x5):\")\n",
    "print(array_2d)\n",
    "\n",
    "# Trier le tableau selon la deuxième colonne (indice 1)\n",
    "sorted_by_second_col = array_2d[array_2d[:, 1].argsort()]\n",
    "print(\"\\n2D Array sorted by second column:\")\n",
    "print(sorted_by_second_col)"
   ]
  },
  {
   "cell_type": "markdown",
   "metadata": {},
   "source": [
    "- Create a 1D NumPy array with random integers between 1 and 100 of size 15. Find and print the indices of all elements greater than 50."
   ]
  },
  {
   "cell_type": "code",
   "execution_count": 42,
   "metadata": {},
   "outputs": [
    {
     "name": "stdout",
     "output_type": "stream",
     "text": [
      "\n",
      "1D Array with Random Integers (1 to 100):\n",
      "[73 68 39 50 73 65 70 56  7 30 50 22 68 93 83]\n",
      "\n",
      "Indices of elements greater than 50:\n",
      "[ 0  1  4  5  6  7 12 13 14]\n"
     ]
    }
   ],
   "source": [
    "array_large = np.random.randint(1, 101, 15)\n",
    "print(\"\\n1D Array with Random Integers (1 to 100):\")\n",
    "print(array_large)\n",
    "\n",
    "# Trouver les indices des éléments supérieurs à 50\n",
    "indices_greater_than_50 = np.where(array_large > 50)\n",
    "print(\"\\nIndices of elements greater than 50:\")\n",
    "print(indices_greater_than_50[0])"
   ]
  },
  {
   "cell_type": "markdown",
   "metadata": {},
   "source": [
    "### Exercise 10: Linear Algebra with NumPy"
   ]
  },
  {
   "cell_type": "markdown",
   "metadata": {},
   "source": [
    "- Create a 2D NumPy array of shape (2, 2) with random integers between 1 and 10. Compute and print the determinant of the array."
   ]
  },
  {
   "cell_type": "code",
   "execution_count": 43,
   "metadata": {},
   "outputs": [
    {
     "name": "stdout",
     "output_type": "stream",
     "text": [
      "2D Array (2x2):\n",
      "[[6 7]\n",
      " [2 2]]\n",
      "\n",
      "Determinant of the 2x2 array:\n",
      "-1.999999999999998\n"
     ]
    }
   ],
   "source": [
    "array_2x2 = np.random.randint(1, 11, (2, 2))\n",
    "print(\"2D Array (2x2):\")\n",
    "print(array_2x2)\n",
    "\n",
    "# Compute the determinant\n",
    "determinant = np.linalg.det(array_2x2)\n",
    "print(\"\\nDeterminant of the 2x2 array:\")\n",
    "print(determinant)"
   ]
  },
  {
   "cell_type": "markdown",
   "metadata": {},
   "source": [
    "- Create a 2D NumPy array of shape (3, 3) with random integers between 1 and 5. Compute and print the eigenvalues and eigenvectors of the array."
   ]
  },
  {
   "cell_type": "code",
   "execution_count": 44,
   "metadata": {},
   "outputs": [
    {
     "name": "stdout",
     "output_type": "stream",
     "text": [
      "\n",
      "2D Array (3x3):\n",
      "[[5 3 5]\n",
      " [3 1 3]\n",
      " [5 4 3]]\n",
      "\n",
      "Eigenvalues:\n",
      "[11.13089138 -0.42011322 -1.71077817]\n",
      "\n",
      "Eigenvectors:\n",
      "[[-0.68908097 -0.72343458 -0.3970258 ]\n",
      " [-0.38572569  0.48002369 -0.44745676]\n",
      " [-0.6135007   0.49620525  0.80134447]]\n"
     ]
    }
   ],
   "source": [
    "array_3x3 = np.random.randint(1, 6, (3, 3))\n",
    "print(\"\\n2D Array (3x3):\")\n",
    "print(array_3x3)\n",
    "\n",
    "# Compute the eigenvalues and eigenvectors\n",
    "eigenvalues, eigenvectors = np.linalg.eig(array_3x3)\n",
    "print(\"\\nEigenvalues:\")\n",
    "print(eigenvalues)\n",
    "print(\"\\nEigenvectors:\")\n",
    "print(eigenvectors)"
   ]
  },
  {
   "cell_type": "markdown",
   "metadata": {},
   "source": [
    "- Create two 2D NumPy arrays of shape (2, 3) and (3, 2) with random integers between 1 and 10. Compute and print the matrix product of the two arrays."
   ]
  },
  {
   "cell_type": "code",
   "execution_count": 45,
   "metadata": {},
   "outputs": [
    {
     "name": "stdout",
     "output_type": "stream",
     "text": [
      "\n",
      "2D Array (2x3):\n",
      "[[6 5 9]\n",
      " [5 2 9]]\n",
      "\n",
      "2D Array (3x2):\n",
      "[[3 4]\n",
      " [1 2]\n",
      " [3 8]]\n",
      "\n",
      "Matrix product of the two arrays:\n",
      "[[ 50 106]\n",
      " [ 44  96]]\n"
     ]
    }
   ],
   "source": [
    "array_2x3 = np.random.randint(1, 11, (2, 3))\n",
    "array_3x2 = np.random.randint(1, 11, (3, 2))\n",
    "print(\"\\n2D Array (2x3):\")\n",
    "print(array_2x3)\n",
    "print(\"\\n2D Array (3x2):\")\n",
    "print(array_3x2)\n",
    "\n",
    "# Compute the matrix product\n",
    "matrix_product = np.dot(array_2x3, array_3x2)\n",
    "print(\"\\nMatrix product of the two arrays:\")\n",
    "print(matrix_product)"
   ]
  },
  {
   "cell_type": "markdown",
   "metadata": {},
   "source": [
    "### Exercise 11: Random Sampling and Distributions"
   ]
  },
  {
   "cell_type": "markdown",
   "metadata": {},
   "source": [
    "- Create a 1D NumPy array of 10 random samples from a uniform distribution over [0, 1) and print the array."
   ]
  },
  {
   "cell_type": "code",
   "execution_count": 46,
   "metadata": {},
   "outputs": [
    {
     "name": "stdout",
     "output_type": "stream",
     "text": [
      "1D Array of 10 random samples from a uniform distribution [0, 1):\n",
      "[0.42156716 0.16245228 0.88042267 0.23337101 0.63637417 0.56152903\n",
      " 0.58281288 0.38682229 0.13651551 0.56121689]\n"
     ]
    }
   ],
   "source": [
    "import matplotlib.pyplot as plt\n",
    "\n",
    "uniform_samples = np.random.uniform(0, 1, 10)\n",
    "print(\"1D Array of 10 random samples from a uniform distribution [0, 1):\")\n",
    "print(uniform_samples)"
   ]
  },
  {
   "cell_type": "markdown",
   "metadata": {},
   "source": [
    "- Create a 2D NumPy array of shape (3, 3) with random samples from a normal distribution with mean 0 and standard deviation 1. Print the array."
   ]
  },
  {
   "cell_type": "code",
   "execution_count": 47,
   "metadata": {},
   "outputs": [
    {
     "name": "stdout",
     "output_type": "stream",
     "text": [
      "\n",
      "2D Array (3x3) of random samples from a normal distribution (mean=0, std=1):\n",
      "[[ 0.34724751 -1.46381062  0.19305509]\n",
      " [-0.76921875 -1.10477388  1.77819167]\n",
      " [ 0.21459161 -1.701018   -1.49025748]]\n"
     ]
    }
   ],
   "source": [
    "normal_samples = np.random.normal(0, 1, (3, 3))\n",
    "print(\"\\n2D Array (3x3) of random samples from a normal distribution (mean=0, std=1):\")\n",
    "print(normal_samples)"
   ]
  },
  {
   "cell_type": "markdown",
   "metadata": {},
   "source": [
    "- Create a 1D NumPy array of 20 random integers between 1 and 100. Compute and print the histogram of the array with 5 bins."
   ]
  },
  {
   "cell_type": "code",
   "execution_count": 48,
   "metadata": {},
   "outputs": [
    {
     "name": "stdout",
     "output_type": "stream",
     "text": [
      "\n",
      "1D Array of 20 random integers between 1 and 100:\n",
      "[93 70  7  2 41 50 75 94 78  1 41 86  8  1  7  6 88 74 49 79]\n",
      "\n",
      "Histogram of the array with 5 bins:\n",
      "Counts per bin: [7 0 4 3 6]\n",
      "Bin edges: [ 1.  19.6 38.2 56.8 75.4 94. ]\n"
     ]
    },
    {
     "data": {
      "image/png": "[encoded data removed]",
      "text/plain": [
       "<Figure size 640x480 with 1 Axes>"
      ]
     },
     "metadata": {},
     "output_type": "display_data"
    }
   ],
   "source": [
    "random_integers = np.random.randint(1, 101, 20)\n",
    "print(\"\\n1D Array of 20 random integers between 1 and 100:\")\n",
    "print(random_integers)\n",
    "\n",
    "# Calculer l'histogramme avec 5 intervalles (bins)\n",
    "hist, bin_edges = np.histogram(random_integers, bins=5)\n",
    "print(\"\\nHistogram of the array with 5 bins:\")\n",
    "print(\"Counts per bin:\", hist)\n",
    "print(\"Bin edges:\", bin_edges)\n",
    "\n",
    "# Optionnel : afficher l'histogramme sous forme graphique\n",
    "plt.hist(random_integers, bins=5, edgecolor='black')\n",
    "plt.title(\"Histogram of Random Integers\")\n",
    "plt.xlabel(\"Value Range\")\n",
    "plt.ylabel(\"Frequency\")\n",
    "plt.show()"
   ]
  },
  {
   "cell_type": "markdown",
   "metadata": {},
   "source": [
    "### Exercise 12: Advanced Indexing and Selection\n",
    "\n",
    "\n",
    "\n",
    "\n",
    "\n"
   ]
  },
  {
   "cell_type": "markdown",
   "metadata": {},
   "source": [
    "- Create a 2D NumPy array of shape (5, 5) with random integers between 1 and 20. Select and print the diagonal elements of the array."
   ]
  },
  {
   "cell_type": "code",
   "execution_count": 49,
   "metadata": {},
   "outputs": [
    {
     "name": "stdout",
     "output_type": "stream",
     "text": [
      "2D Array (5x5):\n",
      "[[11  4 20  4  8]\n",
      " [15 17  5 11 16]\n",
      " [12  4  9 16 17]\n",
      " [12 19  1 12 19]\n",
      " [14 10 16 15  7]]\n",
      "\n",
      "Diagonal elements of the array:\n",
      "[11 17  9 12  7]\n"
     ]
    }
   ],
   "source": [
    "array_5x5 = np.random.randint(1, 21, (5, 5))\n",
    "print(\"2D Array (5x5):\")\n",
    "print(array_5x5)\n",
    "\n",
    "# Select and print the diagonal elements\n",
    "diagonal_elements = np.diagonal(array_5x5)\n",
    "print(\"\\nDiagonal elements of the array:\")\n",
    "print(diagonal_elements)"
   ]
  },
  {
   "cell_type": "markdown",
   "metadata": {},
   "source": [
    "- Create a 1D NumPy array of 10 random integers between 1 and 50. Use advanced indexing to select and print all elements that are prime numbers."
   ]
  },
  {
   "cell_type": "code",
   "execution_count": 50,
   "metadata": {},
   "outputs": [
    {
     "name": "stdout",
     "output_type": "stream",
     "text": [
      "\n",
      "1D Array of 10 random integers between 1 and 50:\n",
      "[ 2 10 36 22 46  7 41 26 48 23]\n",
      "\n",
      "Prime numbers in the array:\n",
      "[ 2  7 41 23]\n"
     ]
    }
   ],
   "source": [
    "array_1d = np.random.randint(1, 51, 10)\n",
    "print(\"\\n1D Array of 10 random integers between 1 and 50:\")\n",
    "print(array_1d)\n",
    "\n",
    "# Function to check if a number is prime\n",
    "def is_prime(n):\n",
    "    if n < 2:\n",
    "        return False\n",
    "    for i in range(2, int(np.sqrt(n)) + 1):\n",
    "        if n % i == 0:\n",
    "            return False\n",
    "    return True\n",
    "\n",
    "# Use advanced indexing to select all prime numbers\n",
    "prime_numbers = array_1d[np.array([is_prime(x) for x in array_1d])]\n",
    "print(\"\\nPrime numbers in the array:\")\n",
    "print(prime_numbers)"
   ]
  },
  {
   "cell_type": "markdown",
   "metadata": {},
   "source": [
    "- Create a 2D NumPy array of shape (4, 4) with random integers between 1 and 10. Select and print all elements that are even numbers."
   ]
  },
  {
   "cell_type": "code",
   "execution_count": 51,
   "metadata": {},
   "outputs": [
    {
     "name": "stdout",
     "output_type": "stream",
     "text": [
      "\n",
      "2D Array (4x4):\n",
      "[[10  5  4  1]\n",
      " [ 9  3  9  5]\n",
      " [ 9  9  1  5]\n",
      " [ 5  9 10  7]]\n",
      "\n",
      "Even numbers in the array:\n",
      "[10  4 10]\n"
     ]
    }
   ],
   "source": [
    "array_4x4 = np.random.randint(1, 11, (4, 4))\n",
    "print(\"\\n2D Array (4x4):\")\n",
    "print(array_4x4)\n",
    "\n",
    "# Select and print all even numbers\n",
    "even_numbers = array_4x4[array_4x4 % 2 == 0]\n",
    "print(\"\\nEven numbers in the array:\")\n",
    "print(even_numbers)"
   ]
  },
  {
   "cell_type": "markdown",
   "metadata": {},
   "source": [
    "### Exercise 13: Handling Missing Data"
   ]
  },
  {
   "cell_type": "markdown",
   "metadata": {},
   "source": [
    "- Create a 1D NumPy array of length 10 with random integers between 1 and 10. Introduce `np.nan` at random positions and print the array."
   ]
  },
  {
   "cell_type": "code",
   "execution_count": 52,
   "metadata": {},
   "outputs": [
    {
     "name": "stdout",
     "output_type": "stream",
     "text": [
      "1D Array of 10 random samples from a uniform distribution [0, 1):\n",
      "[0.34552571 0.20287973 0.63086753 0.9187422  0.59422635 0.80426701\n",
      " 0.81191653 0.24559122 0.85316872 0.36219654]\n"
     ]
    }
   ],
   "source": [
    "uniform_samples = np.random.uniform(0, 1, 10)\n",
    "print(\"1D Array of 10 random samples from a uniform distribution [0, 1):\")\n",
    "print(uniform_samples)"
   ]
  },
  {
   "cell_type": "markdown",
   "metadata": {},
   "source": [
    "- Create a 2D NumPy array of shape (3, 4) with random integers between 1 and 10. Replace all elements that are less than 5 with `np.nan` and print the array."
   ]
  },
  {
   "cell_type": "code",
   "execution_count": 53,
   "metadata": {},
   "outputs": [
    {
     "name": "stdout",
     "output_type": "stream",
     "text": [
      "\n",
      "2D Array (3x3) of random samples from a normal distribution (mean=0, std=1):\n",
      "[[ 0.91108706 -0.58374026  0.06178524]\n",
      " [-1.5451236  -1.18192056  0.9188725 ]\n",
      " [ 1.25049867 -0.14940811 -0.25551456]]\n"
     ]
    }
   ],
   "source": [
    "normal_samples = np.random.normal(0, 1, (3, 3))\n",
    "print(\"\\n2D Array (3x3) of random samples from a normal distribution (mean=0, std=1):\")\n",
    "print(normal_samples)"
   ]
  },
  {
   "cell_type": "markdown",
   "metadata": {},
   "source": [
    "- Create a 1D NumPy array of length 15 with random integers between 1 and 20. Identify and print the indices of all `np.nan` values in the array."
   ]
  },
  {
   "cell_type": "code",
   "execution_count": 54,
   "metadata": {},
   "outputs": [
    {
     "name": "stdout",
     "output_type": "stream",
     "text": [
      "\n",
      "1D Array of 20 random integers between 1 and 100:\n",
      "[82 17 66 18 26 93 69 93 57 60 36  4 97 85 78 80 20 67 23 59]\n",
      "\n",
      "Histogram of the array with 5 bins:\n",
      "Counts per bin: [4 3 2 5 6]\n",
      "Bin edges: [ 4.  22.6 41.2 59.8 78.4 97. ]\n"
     ]
    },
    {
     "data": {
      "image/png": "[encoded data removed]",
      "text/plain": [
       "<Figure size 640x480 with 1 Axes>"
      ]
     },
     "metadata": {},
     "output_type": "display_data"
    }
   ],
   "source": [
    "random_integers = np.random.randint(1, 101, 20)\n",
    "print(\"\\n1D Array of 20 random integers between 1 and 100:\")\n",
    "print(random_integers)\n",
    "\n",
    "# Calculer l'histogramme avec 5 intervalles (bins)\n",
    "hist, bin_edges = np.histogram(random_integers, bins=5)\n",
    "print(\"\\nHistogram of the array with 5 bins:\")\n",
    "print(\"Counts per bin:\", hist)\n",
    "print(\"Bin edges:\", bin_edges)\n",
    "\n",
    "# Optionnel : afficher l'histogramme sous forme graphique\n",
    "plt.hist(random_integers, bins=5, edgecolor='black')\n",
    "plt.title(\"Histogram of Random Integers\")\n",
    "plt.xlabel(\"Value Range\")\n",
    "plt.ylabel(\"Frequency\")\n",
    "plt.show()"
   ]
  },
  {
   "cell_type": "markdown",
   "metadata": {},
   "source": [
    "### Exercise 14: Performance Optimization with NumPy\n",
    "\n",
    "\n",
    "\n",
    "\n",
    "\n"
   ]
  },
  {
   "cell_type": "markdown",
   "metadata": {},
   "source": [
    "- Create a large 1D NumPy array with 1 million random integers between 1 and 100. Compute the mean and standard deviation using NumPy functions and measure the time taken."
   ]
  },
  {
   "cell_type": "code",
   "execution_count": 55,
   "metadata": {},
   "outputs": [
    {
     "name": "stdout",
     "output_type": "stream",
     "text": [
      "Mean: 50.533719, Standard Deviation: 28.859866718837072\n",
      "Time taken to compute mean and std deviation: 0.026760 seconds\n",
      "\n"
     ]
    }
   ],
   "source": [
    "import time\n",
    "\n",
    "large_array = np.random.randint(1, 101, size=1_000_000)\n",
    "\n",
    "# Measure the time taken to compute mean and standard deviation\n",
    "start_time = time.time()\n",
    "mean_value = np.mean(large_array)\n",
    "std_dev_value = np.std(large_array)\n",
    "end_time = time.time()\n",
    "print(f\"Mean: {mean_value}, Standard Deviation: {std_dev_value}\")\n",
    "print(f\"Time taken to compute mean and std deviation: {end_time - start_time:.6f} seconds\\n\")\n"
   ]
  },
  {
   "cell_type": "markdown",
   "metadata": {},
   "source": [
    "- Create two large 2D NumPy arrays of shape (1000, 1000) with random integers between 1 and 10. Perform element-wise addition and measure the time taken."
   ]
  },
  {
   "cell_type": "code",
   "execution_count": 56,
   "metadata": {},
   "outputs": [
    {
     "name": "stdout",
     "output_type": "stream",
     "text": [
      "Time taken for element-wise addition of two 1000x1000 arrays: 0.011362 seconds\n",
      "\n"
     ]
    }
   ],
   "source": [
    "array_2d_1 = np.random.randint(1, 11, size=(1000, 1000))\n",
    "array_2d_2 = np.random.randint(1, 11, size=(1000, 1000))\n",
    "\n",
    "# Measure the time taken to perform element-wise addition\n",
    "start_time = time.time()\n",
    "array_sum = array_2d_1 + array_2d_2\n",
    "end_time = time.time()\n",
    "print(f\"Time taken for element-wise addition of two 1000x1000 arrays: {end_time - start_time:.6f} seconds\\n\")\n"
   ]
  },
  {
   "cell_type": "markdown",
   "metadata": {},
   "source": [
    "- Create a 3D NumPy array of shape (100, 100, 100) with random integers between 1 and 10. Compute the sum along each axis and measure the time taken."
   ]
  },
  {
   "cell_type": "code",
   "execution_count": 57,
   "metadata": {},
   "outputs": [
    {
     "name": "stdout",
     "output_type": "stream",
     "text": [
      "Time taken to compute sum along each axis: 0.005566 seconds\n"
     ]
    }
   ],
   "source": [
    "array_3d = np.random.randint(1, 11, size=(100, 100, 100))\n",
    "\n",
    "# Measure the time taken to compute the sum along each axis\n",
    "start_time = time.time()\n",
    "sum_axis_0 = np.sum(array_3d, axis=0)\n",
    "sum_axis_1 = np.sum(array_3d, axis=1)\n",
    "sum_axis_2 = np.sum(array_3d, axis=2)\n",
    "end_time = time.time()\n",
    "print(f\"Time taken to compute sum along each axis: {end_time - start_time:.6f} seconds\")\n"
   ]
  },
  {
   "cell_type": "markdown",
   "metadata": {},
   "source": [
    "### Exercise 15: Cumulative and Aggregate Functions\n"
   ]
  },
  {
   "cell_type": "markdown",
   "metadata": {},
   "source": [
    "- Create a 1D NumPy array with the numbers from 1 to 10. Compute and print the cumulative sum and cumulative product of the array."
   ]
  },
  {
   "cell_type": "code",
   "execution_count": 58,
   "metadata": {},
   "outputs": [
    {
     "name": "stdout",
     "output_type": "stream",
     "text": [
      "1D Array: [ 1  2  3  4  5  6  7  8  9 10]\n",
      "Cumulative Sum: [ 1  3  6 10 15 21 28 36 45 55]\n",
      "Cumulative Product: [      1       2       6      24     120     720    5040   40320  362880\n",
      " 3628800]\n"
     ]
    }
   ],
   "source": [
    "array_1d = np.arange(1, 11)\n",
    "\n",
    "# Compute cumulative sum and cumulative product\n",
    "cumulative_sum = np.cumsum(array_1d)\n",
    "cumulative_product = np.cumprod(array_1d)\n",
    "\n",
    "print(\"1D Array:\", array_1d)\n",
    "print(\"Cumulative Sum:\", cumulative_sum)\n",
    "print(\"Cumulative Product:\", cumulative_product)"
   ]
  },
  {
   "cell_type": "markdown",
   "metadata": {},
   "source": [
    "- Create a 2D NumPy array of shape (4, 4) with random integers between 1 and 20. Compute and print the cumulative sum along the rows and the columns."
   ]
  },
  {
   "cell_type": "code",
   "execution_count": 59,
   "metadata": {},
   "outputs": [
    {
     "name": "stdout",
     "output_type": "stream",
     "text": [
      "\n",
      "2D Array:\n",
      "[[13 16 13  1]\n",
      " [ 4 16  5 13]\n",
      " [10 19  8  2]\n",
      " [ 4 15 12 13]]\n",
      "Cumulative Sum Along Rows:\n",
      "[[13 29 42 43]\n",
      " [ 4 20 25 38]\n",
      " [10 29 37 39]\n",
      " [ 4 19 31 44]]\n",
      "Cumulative Sum Along Columns:\n",
      "[[13 16 13  1]\n",
      " [17 32 18 14]\n",
      " [27 51 26 16]\n",
      " [31 66 38 29]]\n"
     ]
    }
   ],
   "source": [
    "array_2d = np.random.randint(1, 21, size=(4, 4))\n",
    "\n",
    "# Compute cumulative sum along rows (axis=1) and columns (axis=0)\n",
    "cumsum_rows = np.cumsum(array_2d, axis=1)\n",
    "cumsum_columns = np.cumsum(array_2d, axis=0)\n",
    "\n",
    "print(\"\\n2D Array:\")\n",
    "print(array_2d)\n",
    "print(\"Cumulative Sum Along Rows:\")\n",
    "print(cumsum_rows)\n",
    "print(\"Cumulative Sum Along Columns:\")\n",
    "print(cumsum_columns)"
   ]
  },
  {
   "cell_type": "markdown",
   "metadata": {},
   "source": [
    "- Create a 1D NumPy array with 10 random integers between 1 and 50. Compute and print the minimum, maximum, and sum of the array."
   ]
  },
  {
   "cell_type": "code",
   "execution_count": 60,
   "metadata": {},
   "outputs": [
    {
     "name": "stdout",
     "output_type": "stream",
     "text": [
      "\n",
      "1D Array with Random Integers: [ 8 28  9 46 25 19 47 29  7 46]\n",
      "Minimum: 7\n",
      "Maximum: 47\n",
      "Sum: 264\n"
     ]
    }
   ],
   "source": [
    "array_random = np.random.randint(1, 51, size=10)\n",
    "\n",
    "# Compute minimum, maximum, and sum of the array\n",
    "array_min = np.min(array_random)\n",
    "array_max = np.max(array_random)\n",
    "array_sum = np.sum(array_random)\n",
    "\n",
    "print(\"\\n1D Array with Random Integers:\", array_random)\n",
    "print(\"Minimum:\", array_min)\n",
    "print(\"Maximum:\", array_max)\n",
    "print(\"Sum:\", array_sum)"
   ]
  },
  {
   "cell_type": "markdown",
   "metadata": {},
   "source": [
    "### Exercise 16: Working with Dates and Times\n",
    "\n",
    "- Create an array of 10 dates starting from today with a daily frequency and print the array.\n",
    "\n",
    "\n",
    "\n"
   ]
  },
  {
   "cell_type": "code",
   "execution_count": 61,
   "metadata": {},
   "outputs": [
    {
     "name": "stdout",
     "output_type": "stream",
     "text": [
      "Array of 10 dates with daily frequency:\n",
      "['2025-02-20' '2025-02-21' '2025-02-22' '2025-02-23' '2025-02-24'\n",
      " '2025-02-25' '2025-02-26' '2025-02-27' '2025-02-28' '2025-03-01']\n"
     ]
    }
   ],
   "source": [
    "dates_daily = np.arange(np.datetime64('today'), np.datetime64('today') + np.timedelta64(10, 'D'))\n",
    "print(\"Array of 10 dates with daily frequency:\")\n",
    "print(dates_daily)"
   ]
  },
  {
   "cell_type": "markdown",
   "metadata": {},
   "source": [
    "- Create an array of 5 dates starting from January 1, 2022 with a monthly frequency and print the array."
   ]
  },
  {
   "cell_type": "code",
   "execution_count": 71,
   "metadata": {},
   "outputs": [
    {
     "name": "stdout",
     "output_type": "stream",
     "text": [
      "\n",
      "Array of 5 dates with monthly frequency:\n",
      "['2022-01' '2022-02' '2022-03' '2022-04' '2022-05']\n"
     ]
    }
   ],
   "source": [
    "# Create an array of 5 dates starting from January 1, 2022 with a monthly frequency\n",
    "dates_monthly = np.arange(np.datetime64('2022-01'), np.datetime64('2022-06'), dtype='datetime64[M]')\n",
    "print(\"\\nArray of 5 dates with monthly frequency:\")\n",
    "print(dates_monthly)\n"
   ]
  },
  {
   "cell_type": "markdown",
   "metadata": {},
   "source": [
    "- Create a 1D array with 10 random timestamps in the year 2023. Convert the timestamps to NumPy datetime64 objects and print the result."
   ]
  },
  {
   "cell_type": "code",
   "execution_count": 65,
   "metadata": {},
   "outputs": [
    {
     "name": "stdout",
     "output_type": "stream",
     "text": [
      "\n",
      "Array of 10 random timestamps in 2023:\n",
      "['2023-10-14' '2023-07-26' '2023-02-09' '2023-09-29' '2023-09-21'\n",
      " '2023-04-16' '2023-10-29' '2023-07-16' '2023-07-15' '2023-08-10']\n"
     ]
    }
   ],
   "source": [
    "random_timestamps = np.random.randint(0, 365, size=10)  # Random days in 2023\n",
    "dates_random = np.datetime64('2023-01-01') + random_timestamps\n",
    "print(\"\\nArray of 10 random timestamps in 2023:\")\n",
    "print(dates_random)"
   ]
  },
  {
   "cell_type": "markdown",
   "metadata": {},
   "source": [
    "### Exercise 17: Creating Arrays with Custom Data Types\n",
    "\n",
    "- Create a 1D NumPy array of length 5 with custom data type to store integers and their corresponding binary representation as strings. Print the array."
   ]
  },
  {
   "cell_type": "code",
   "execution_count": 67,
   "metadata": {},
   "outputs": [
    {
     "name": "stdout",
     "output_type": "stream",
     "text": [
      "1D Array with integers and binary representation:\n",
      "[(1, '0b1') (2, '0b10') (3, '0b11') (4, '0b100') (5, '0b101')]\n"
     ]
    }
   ],
   "source": [
    "custom_dtype = np.dtype([('number', np.int32), ('binary', 'U10')])\n",
    "data = [(1, bin(1)), (2, bin(2)), (3, bin(3)), (4, bin(4)), (5, bin(5))]\n",
    "array_custom = np.array(data, dtype=custom_dtype)\n",
    "print(\"1D Array with integers and binary representation:\")\n",
    "print(array_custom)"
   ]
  },
  {
   "cell_type": "markdown",
   "metadata": {},
   "source": [
    "- Create a 2D NumPy array of shape (3, 3) with a custom data type to store complex numbers. Initialize the array with some complex numbers and print the array."
   ]
  },
  {
   "cell_type": "code",
   "execution_count": 68,
   "metadata": {},
   "outputs": [
    {
     "name": "stdout",
     "output_type": "stream",
     "text": [
      "\n",
      "2D Array with complex numbers:\n",
      "[[1.+2.j 2.-1.j 3.+4.j]\n",
      " [4.+5.j 5.+6.j 6.-2.j]\n",
      " [7.+8.j 8.+9.j 9.-3.j]]\n"
     ]
    }
   ],
   "source": [
    "complex_dtype = np.dtype(np.complex128)\n",
    "array_complex = np.array([[1 + 2j, 2 - 1j, 3 + 4j], [4 + 5j, 5 + 6j, 6 - 2j], [7 + 8j, 8 + 9j, 9 - 3j]], dtype=complex_dtype)\n",
    "print(\"\\n2D Array with complex numbers:\")\n",
    "print(array_complex)"
   ]
  },
  {
   "cell_type": "markdown",
   "metadata": {},
   "source": [
    "- Create a structured array to store information about books with fields: title (string), author (string), and pages (integer). Add information for three books and print the structured array."
   ]
  },
  {
   "cell_type": "code",
   "execution_count": 69,
   "metadata": {},
   "outputs": [
    {
     "name": "stdout",
     "output_type": "stream",
     "text": [
      "\n",
      "Structured array with book information:\n",
      "[('The Great Gatsby', 'F. Scott Fitzgerald', 218)\n",
      " ('1984', 'George Orwell', 328)\n",
      " ('To Kill a Mockingbird', 'Harper Lee', 281)]\n"
     ]
    }
   ],
   "source": [
    "book_dtype = np.dtype([('title', 'U50'), ('author', 'U50'), ('pages', np.int32)])\n",
    "books = np.array([\n",
    "    ('The Great Gatsby', 'F. Scott Fitzgerald', 218),\n",
    "    ('1984', 'George Orwell', 328),\n",
    "    ('To Kill a Mockingbird', 'Harper Lee', 281)\n",
    "], dtype=book_dtype)\n",
    "\n",
    "print(\"\\nStructured array with book information:\")\n",
    "print(books)"
   ]
  }
 ],
 "metadata": {
  "kernelspec": {
   "display_name": "Python 3",
   "language": "python",
   "name": "python3"
  },
  "language_info": {
   "codemirror_mode": {
    "name": "ipython",
    "version": 3
   },
   "file_extension": ".py",
   "mimetype": "text/x-python",
   "name": "python",
   "nbconvert_exporter": "python",
   "pygments_lexer": "ipython3",
   "version": "3.8.10"
  }
 },
 "nbformat": 4,
 "nbformat_minor": 2
}
