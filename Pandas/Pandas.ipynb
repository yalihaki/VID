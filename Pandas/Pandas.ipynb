{
 "cells": [
  {
   "cell_type": "markdown",
   "metadata": {},
   "source": [
    "## Exercice 1 : Creating and Modifying Series\n",
    "\n",
    "Create a Pandas Series from a dictionary where keys are ['a', 'b', 'c'] and values are [100, 200, 300]."
   ]
  },
  {
   "cell_type": "code",
   "execution_count": 1,
   "metadata": {},
   "outputs": [
    {
     "name": "stdout",
     "output_type": "stream",
     "text": [
      "a    100\n",
      "b    200\n",
      "c    300\n",
      "dtype: int64\n"
     ]
    }
   ],
   "source": [
    "import pandas as pd\n",
    "\n",
    "# Create a dictionary with keys and values\n",
    "data = {'a': 100, 'b': 200, 'c': 300}\n",
    "\n",
    "# Create a Pandas Series from the dictionary\n",
    "series = pd.Series(data)\n",
    "\n",
    "print(series)"
   ]
  },
  {
   "cell_type": "markdown",
   "metadata": {},
   "source": [
    "## Exercice 2 : Creating DataFrames\n",
    "Create a DataFrame from the following data:\n",
    "\n",
    "\n",
    "Modify the code to add a new column D with values [10, 11, 12].\n",
    "\n",
    "Drop column B from the DataFrame and display the result."
   ]
  },
  {
   "cell_type": "markdown",
   "metadata": {},
   "source": [
    "   A  B  C\n",
    "0  1  2  3\n",
    "1  4  5  6\n",
    "2  7  8  9"
   ]
  },
  {
   "cell_type": "code",
   "execution_count": 5,
   "metadata": {},
   "outputs": [
    {
     "name": "stdout",
     "output_type": "stream",
     "text": [
      "   A  B  C\n",
      "0  1  2  3\n",
      "1  4  5  6\n",
      "2  7  8  9\n",
      "\n",
      "\n",
      "   A  B  C   D\n",
      "0  1  2  3  10\n",
      "1  4  5  6  11\n",
      "2  7  8  9  12\n",
      "\n",
      "\n",
      "   A  C   D\n",
      "0  1  3  10\n",
      "1  4  6  11\n",
      "2  7  9  12\n"
     ]
    }
   ],
   "source": [
    "import pandas as pd\n",
    "\n",
    "# Create the DataFrame\n",
    "data = {'A': [1, 4, 7], 'B': [2, 5, 8], 'C': [3, 6, 9]}\n",
    "df = pd.DataFrame(data)\n",
    "print(df)\n",
    "print('\\n')\n",
    "\n",
    "# Add a new column 'D'\n",
    "df['D'] = [10, 11, 12]\n",
    "print(df) \n",
    "print('\\n')\n",
    "\n",
    "# Drop column 'B'\n",
    "df = df.drop('B', axis=1)\n",
    "\n",
    "# Display the modified DataFrame\n",
    "print(df)"
   ]
  },
  {
   "cell_type": "markdown",
   "metadata": {},
   "source": [
    "## Exercice 3 : DataFrame Indexing and Selection\n",
    "\n",
    "Select column B from the following DataFrame:"
   ]
  },
  {
   "cell_type": "markdown",
   "metadata": {},
   "source": [
    "   A  B  C\n",
    "0  1  2  3\n",
    "1  4  5  6\n",
    "2  7  8  9"
   ]
  },
  {
   "cell_type": "markdown",
   "metadata": {},
   "source": [
    "Modify the code to select both columns A and C.\n",
    "\n",
    "Select the row with index 1 using the .loc method."
   ]
  },
  {
   "cell_type": "code",
   "execution_count": null,
   "metadata": {},
   "outputs": [
    {
     "name": "stdout",
     "output_type": "stream",
     "text": [
      "Column B:\n",
      " 0    2\n",
      "1    5\n",
      "2    8\n",
      "Name: B, dtype: int64\n",
      "\n",
      "Columns A and C:\n",
      "    A  C\n",
      "0  1  3\n",
      "1  4  6\n",
      "2  7  9\n",
      "\n",
      "Row with index 1:\n",
      " A    4\n",
      "B    5\n",
      "C    6\n",
      "Name: 1, dtype: int64\n"
     ]
    }
   ],
   "source": [
    "import pandas as pd\n",
    "\n",
    "# Create the DataFrame\n",
    "data = {'A': [1, 4, 7], 'B': [2, 5, 8], 'C': [3, 6, 9]}\n",
    "df = pd.DataFrame(data)\n",
    "\n",
    "# Select column B\n",
    "column_b = df['B']\n",
    "print(\"Column B:\\n\", column_b)\n",
    "\n",
    "# Select columns A and C\n",
    "columns_ac = df[['A', 'C']]\n",
    "print(\"\\nColumns A and C:\\n\", columns_ac)\n",
    "\n",
    "# Select row with index 1 using .loc\n",
    "row_1 = df.loc[1]\n",
    "print(\"\\nRow with index 1:\\n\", row_1)\n"
   ]
  },
  {
   "cell_type": "markdown",
   "metadata": {},
   "source": [
    "## Exercice 4 : Adding and Removing DataFrame Elements\n",
    "\n",
    "Add a new column Sum to the DataFrame which is the sum of columns A, B, and C.\n",
    "\n",
    "Remove the column Sum from the DataFrame.\n",
    "\n",
    "Add a column Random with random numbers generated using numpy."
   ]
  },
  {
   "cell_type": "code",
   "execution_count": 7,
   "metadata": {},
   "outputs": [
    {
     "name": "stdout",
     "output_type": "stream",
     "text": [
      "DataFrame with 'Sum' column:\n",
      "    A  B  C  Sum\n",
      "0  1  2  3    6\n",
      "1  4  5  6   15\n",
      "2  7  8  9   24\n",
      "\n",
      "DataFrame after removing 'Sum' column:\n",
      "    A  B  C\n",
      "0  1  2  3\n",
      "1  4  5  6\n",
      "2  7  8  9\n",
      "\n",
      "DataFrame with 'Random' column:\n",
      "    A  B  C    Random\n",
      "0  1  2  3  0.412644\n",
      "1  4  5  6  0.140522\n",
      "2  7  8  9  0.459053\n"
     ]
    }
   ],
   "source": [
    "import pandas as pd\n",
    "import numpy as np\n",
    "\n",
    "# Create the DataFrame\n",
    "data = {'A': [1, 4, 7], 'B': [2, 5, 8], 'C': [3, 6, 9]}\n",
    "df = pd.DataFrame(data)\n",
    "\n",
    "# Add a new column 'Sum'\n",
    "df['Sum'] = df['A'] + df['B'] + df['C']\n",
    "print(\"DataFrame with 'Sum' column:\\n\", df)\n",
    "\n",
    "# Remove the 'Sum' column\n",
    "df = df.drop('Sum', axis=1)\n",
    "print(\"\\nDataFrame after removing 'Sum' column:\\n\", df)\n",
    "\n",
    "# Add a column 'Random' with random numbers\n",
    "df['Random'] = np.random.rand(len(df))\n",
    "print(\"\\nDataFrame with 'Random' column:\\n\", df)"
   ]
  },
  {
   "cell_type": "markdown",
   "metadata": {},
   "source": [
    "## Exercice 5 : Merging DataFrames\n",
    "\n",
    "Merge the following two DataFrames on the key column:"
   ]
  },
  {
   "cell_type": "markdown",
   "metadata": {},
   "source": [
    "left:\n",
    "   key  A  B\n",
    "0    1  A1  B1\n",
    "1    2  A2  B2\n",
    "2    3  A3  B3\n",
    "\n",
    "right:\n",
    "   key  C  D\n",
    "0    1  C1  D1\n",
    "1    2  C2  D2\n",
    "2    3  C3  D3"
   ]
  },
  {
   "cell_type": "markdown",
   "metadata": {},
   "source": [
    "Modify the merge to use an outer join instead of an inner join.\n",
    "\n",
    "Add a new column E to the right DataFrame and update the merge to include this new column."
   ]
  },
  {
   "cell_type": "code",
   "execution_count": 3,
   "metadata": {},
   "outputs": [
    {
     "name": "stdout",
     "output_type": "stream",
     "text": [
      "Inner Merge:\n",
      "    key   A   B   C   D\n",
      "0    1  A1  B1  C1  D1\n",
      "1    2  A2  B2  C2  D2\n",
      "2    3  A3  B3  C3  D3\n",
      "\n",
      "Outer Merge:\n",
      "    key   A   B   C   D\n",
      "0    1  A1  B1  C1  D1\n",
      "1    2  A2  B2  C2  D2\n",
      "2    3  A3  B3  C3  D3\n",
      "\n",
      "Outer Merge with 'E' column:\n",
      "    key   A   B   C   D   E\n",
      "0    1  A1  B1  C1  D1  E1\n",
      "1    2  A2  B2  C2  D2  E2\n",
      "2    3  A3  B3  C3  D3  E3\n"
     ]
    }
   ],
   "source": [
    "# Create the left DataFrame\n",
    "left = pd.DataFrame({'key': [1, 2, 3], 'A': ['A1', 'A2', 'A3'], 'B': ['B1', 'B2', 'B3']})\n",
    "\n",
    "# Create the right DataFrame\n",
    "right = pd.DataFrame({'key': [1, 2, 3], 'C': ['C1', 'C2', 'C3'], 'D': ['D1', 'D2', 'D3']})\n",
    "\n",
    "# Merge DataFrames using inner join (default)\n",
    "merged_inner = pd.merge(left, right, on='key')\n",
    "print(\"Inner Merge:\\n\", merged_inner)\n",
    "\n",
    "# Merge DataFrames using outer join\n",
    "merged_outer = pd.merge(left, right, on='key', how='outer')\n",
    "print(\"\\nOuter Merge:\\n\", merged_outer)\n",
    "\n",
    "# Add a new column 'E' to the right DataFrame\n",
    "right['E'] = ['E1', 'E2', 'E3']\n",
    "\n",
    "# Merge DataFrames with the updated right DataFrame\n",
    "merged_outer_with_e = pd.merge(left, right, on='key', how='outer')\n",
    "print(\"\\nOuter Merge with 'E' column:\\n\", merged_outer_with_e)"
   ]
  },
  {
   "cell_type": "markdown",
   "metadata": {},
   "source": [
    "## Exercice 6 : Data Cleaning\n",
    "\n",
    "Replace all NaN values in the following DataFrame with the value 0:"
   ]
  },
  {
   "cell_type": "markdown",
   "metadata": {},
   "source": [
    "   A    B    C\n",
    "0  1.0  NaN  3.0\n",
    "1  NaN  5.0  6.0\n",
    "2  7.0  8.0  NaN"
   ]
  },
  {
   "cell_type": "markdown",
   "metadata": {},
   "source": [
    "Modify the code to replace NaN values with the mean of the column.\n",
    "\n",
    "Drop rows where any value is NaN."
   ]
  },
  {
   "cell_type": "code",
   "execution_count": 2,
   "metadata": {},
   "outputs": [
    {
     "name": "stdout",
     "output_type": "stream",
     "text": [
      "Original DataFrame:\n",
      "      A    B    C\n",
      "0  1.0  NaN  3.0\n",
      "1  NaN  5.0  6.0\n",
      "2  7.0  8.0  NaN\n",
      "\n",
      "DataFrame with NaN replaced by 0:\n",
      "      A    B    C\n",
      "0  1.0  0.0  3.0\n",
      "1  0.0  5.0  6.0\n",
      "2  7.0  8.0  0.0\n",
      "\n",
      "DataFrame with NaN replaced by column mean:\n",
      "      A    B    C\n",
      "0  1.0  6.5  3.0\n",
      "1  4.0  5.0  6.0\n",
      "2  7.0  8.0  4.5\n",
      "\n",
      "DataFrame with NaN rows dropped:\n",
      " Empty DataFrame\n",
      "Columns: [A, B, C]\n",
      "Index: []\n"
     ]
    }
   ],
   "source": [
    "import numpy as np\n",
    "\n",
    "# Create the DataFrame with NaN values\n",
    "data = {'A': [1.0, np.nan, 7.0], 'B': [np.nan, 5.0, 8.0], 'C': [3.0, 6.0, np.nan]}\n",
    "df = pd.DataFrame(data)\n",
    "\n",
    "print(\"Original DataFrame:\\n\", df)\n",
    "\n",
    "# Replace NaN with 0\n",
    "df_filled_zero = df.fillna(0)\n",
    "print(\"\\nDataFrame with NaN replaced by 0:\\n\", df_filled_zero)\n",
    "\n",
    "# Replace NaN with the mean of the column\n",
    "df_filled_mean = df.fillna(df.mean())\n",
    "print(\"\\nDataFrame with NaN replaced by column mean:\\n\", df_filled_mean)\n",
    "\n",
    "# Drop rows with NaN values\n",
    "df_dropped_na = df.dropna()\n",
    "print(\"\\nDataFrame with NaN rows dropped:\\n\", df_dropped_na)"
   ]
  },
  {
   "cell_type": "markdown",
   "metadata": {},
   "source": [
    "## Exercice 7 : Grouping and Aggregation\n",
    "\n",
    "Group the following DataFrame by column Category and calculate the mean of column Value:"
   ]
  },
  {
   "cell_type": "markdown",
   "metadata": {},
   "source": [
    "   Category  Value\n",
    "0         A      1\n",
    "1         B      2\n",
    "2         A      3\n",
    "3         B      4\n",
    "4         A      5\n",
    "5         B      6"
   ]
  },
  {
   "cell_type": "markdown",
   "metadata": {},
   "source": [
    "Modify the code to calculate the sum instead of the mean.\n",
    "\n",
    "Group by Category and count the number of entries in each group."
   ]
  },
  {
   "cell_type": "code",
   "execution_count": 4,
   "metadata": {},
   "outputs": [
    {
     "name": "stdout",
     "output_type": "stream",
     "text": [
      "Grouped Mean:\n",
      " Category\n",
      "A    3.0\n",
      "B    4.0\n",
      "Name: Value, dtype: float64\n",
      "\n",
      "Grouped Sum:\n",
      " Category\n",
      "A     9\n",
      "B    12\n",
      "Name: Value, dtype: int64\n",
      "\n",
      "Grouped Count:\n",
      " Category\n",
      "A    3\n",
      "B    3\n",
      "Name: Value, dtype: int64\n"
     ]
    }
   ],
   "source": [
    "# Create the DataFrame\n",
    "data = {'Category': ['A', 'B', 'A', 'B', 'A', 'B'], 'Value': [1, 2, 3, 4, 5, 6]}\n",
    "df = pd.DataFrame(data)\n",
    "\n",
    "# Group by Category and calculate the mean of Value\n",
    "grouped_mean = df.groupby('Category')['Value'].mean()\n",
    "print(\"Grouped Mean:\\n\", grouped_mean)\n",
    "\n",
    "# Group by Category and calculate the sum of Value\n",
    "grouped_sum = df.groupby('Category')['Value'].sum()\n",
    "print(\"\\nGrouped Sum:\\n\", grouped_sum)\n",
    "\n",
    "# Group by Category and count the number of entries\n",
    "grouped_count = df.groupby('Category')['Value'].count()\n",
    "print(\"\\nGrouped Count:\\n\", grouped_count)"
   ]
  },
  {
   "cell_type": "markdown",
   "metadata": {},
   "source": [
    "## Exercice 8 : Pivot Tables\n",
    "\n",
    "Create a pivot table from the following DataFrame, showing the mean Value for each Category and Type:"
   ]
  },
  {
   "cell_type": "markdown",
   "metadata": {},
   "source": [
    "   Category  Type  Value\n",
    "0         A     X      1\n",
    "1         A     Y      2\n",
    "2         A     X      3\n",
    "3         B     Y      4\n",
    "4         B     X      5\n",
    "5         B     Y      6"
   ]
  },
  {
   "cell_type": "markdown",
   "metadata": {},
   "source": [
    "Modify the pivot table to show the sum of Value instead of the mean.\n",
    "\n",
    "Add margins to the pivot table to show the total mean for each Category and Type."
   ]
  },
  {
   "cell_type": "code",
   "execution_count": 5,
   "metadata": {},
   "outputs": [
    {
     "name": "stdout",
     "output_type": "stream",
     "text": [
      "Pivot Table (Mean):\n",
      " Type      X  Y\n",
      "Category      \n",
      "A         2  2\n",
      "B         5  5\n",
      "\n",
      "Pivot Table (Sum):\n",
      " Type      X   Y\n",
      "Category       \n",
      "A         4   2\n",
      "B         5  10\n",
      "\n",
      "Pivot Table (Mean with Margins):\n",
      " Type      X  Y  Total\n",
      "Category             \n",
      "A         2  2    2.0\n",
      "B         5  5    5.0\n",
      "Total     3  4    3.5\n"
     ]
    }
   ],
   "source": [
    "# Create the DataFrame\n",
    "data = {'Category': ['A', 'A', 'A', 'B', 'B', 'B'],\n",
    "        'Type': ['X', 'Y', 'X', 'Y', 'X', 'Y'],\n",
    "        'Value': [1, 2, 3, 4, 5, 6]}\n",
    "df = pd.DataFrame(data)\n",
    "\n",
    "# Create a pivot table showing the mean of Value\n",
    "pivot_mean = pd.pivot_table(df, values='Value', index='Category', columns='Type', aggfunc=np.mean)\n",
    "print(\"Pivot Table (Mean):\\n\", pivot_mean)\n",
    "\n",
    "# Create a pivot table showing the sum of Value\n",
    "pivot_sum = pd.pivot_table(df, values='Value', index='Category', columns='Type', aggfunc=np.sum)\n",
    "print(\"\\nPivot Table (Sum):\\n\", pivot_sum)\n",
    "\n",
    "# Create a pivot table with margins showing the total mean\n",
    "pivot_mean_margins = pd.pivot_table(df, values='Value', index='Category', columns='Type', aggfunc=np.mean, margins=True, margins_name='Total')\n",
    "print(\"\\nPivot Table (Mean with Margins):\\n\", pivot_mean_margins)"
   ]
  },
  {
   "cell_type": "markdown",
   "metadata": {},
   "source": [
    "## Exercice 9 : Time Series Data\n",
    "\n",
    "Create a time series DataFrame with a date range starting from '2023-01-01' for 6 periods and random values.\n",
    "\n",
    "Set the date column as the index of the DataFrame.\n",
    "\n",
    "Resample the data to calculate the sum for each 2-day period."
   ]
  },
  {
   "cell_type": "code",
   "execution_count": 6,
   "metadata": {},
   "outputs": [
    {
     "name": "stdout",
     "output_type": "stream",
     "text": [
      "               Value\n",
      "2023-01-01  1.709937\n",
      "2023-01-03  0.900738\n",
      "2023-01-05  0.103323\n"
     ]
    }
   ],
   "source": [
    "# Create a date range\n",
    "dates = pd.date_range(start='2023-01-01', periods=6)\n",
    "\n",
    "# Create a DataFrame with random values\n",
    "df = pd.DataFrame({'Value': np.random.rand(6)}, index=dates)\n",
    "\n",
    "# Resample the data to calculate the sum for each 2-day period\n",
    "df_resampled = df.resample('2D').sum()\n",
    "\n",
    "print(df_resampled)"
   ]
  },
  {
   "cell_type": "markdown",
   "metadata": {},
   "source": [
    "## Exercice 10 : Handling Missing Data\n",
    "\n",
    "Interpolate missing values in the following DataFrame:"
   ]
  },
  {
   "cell_type": "markdown",
   "metadata": {},
   "source": [
    "   A    B    C\n",
    "0  1.0  NaN  3.0\n",
    "1  2.0  5.0  NaN\n",
    "2  NaN  8.0  9.0"
   ]
  },
  {
   "cell_type": "markdown",
   "metadata": {},
   "source": [
    "Drop rows with any NaN values instead of interpolating."
   ]
  },
  {
   "cell_type": "code",
   "execution_count": 9,
   "metadata": {},
   "outputs": [
    {
     "name": "stdout",
     "output_type": "stream",
     "text": [
      "Original DataFrame:\n",
      "      A    B    C\n",
      "0  1.0  NaN  3.0\n",
      "1  2.0  5.0  NaN\n",
      "2  NaN  8.0  9.0\n",
      "\n",
      "DataFrame with interpolated NaN values:\n",
      "      A    B    C\n",
      "0  1.0  NaN  3.0\n",
      "1  2.0  5.0  6.0\n",
      "2  2.0  8.0  9.0\n",
      "\n",
      "DataFrame with NaN rows dropped:\n",
      " Empty DataFrame\n",
      "Columns: [A, B, C]\n",
      "Index: []\n"
     ]
    }
   ],
   "source": [
    "# Create the DataFrame with NaN values\n",
    "data = {'A': [1.0, 2.0, np.nan], 'B': [np.nan, 5.0, 8.0], 'C': [3.0, np.nan, 9.0]}\n",
    "df = pd.DataFrame(data)\n",
    "\n",
    "print(\"Original DataFrame:\\n\", df)\n",
    "\n",
    "# Interpolate missing values\n",
    "df_interpolated = df.interpolate()\n",
    "print(\"\\nDataFrame with interpolated NaN values:\\n\", df_interpolated)\n",
    "\n",
    "# Drop rows with NaN values\n",
    "df_dropped_na = df.dropna()\n",
    "print(\"\\nDataFrame with NaN rows dropped:\\n\", df_dropped_na)"
   ]
  },
  {
   "cell_type": "markdown",
   "metadata": {},
   "source": [
    "## Exercice 11 : DataFrame Operations\n",
    "\n",
    "Calculate the cumulative sum of the following DataFrame:"
   ]
  },
  {
   "cell_type": "markdown",
   "metadata": {},
   "source": [
    "   A  B  C\n",
    "0  1  2  3\n",
    "1  4  5  6\n",
    "2  7  8  9"
   ]
  },
  {
   "cell_type": "markdown",
   "metadata": {},
   "source": [
    "Calculate the cumulative product of the DataFrame.\n",
    "\n",
    "Apply a function to subtract 1 from all elements in the DataFrame."
   ]
  },
  {
   "cell_type": "code",
   "execution_count": 8,
   "metadata": {},
   "outputs": [
    {
     "name": "stdout",
     "output_type": "stream",
     "text": [
      "Original DataFrame:\n",
      "    A  B  C\n",
      "0  1  2  3\n",
      "1  4  5  6\n",
      "2  7  8  9\n",
      "\n",
      "Cumulative Sum:\n",
      "     A   B   C\n",
      "0   1   2   3\n",
      "1   5   7   9\n",
      "2  12  15  18\n",
      "\n",
      "Cumulative Product:\n",
      "     A   B    C\n",
      "0   1   2    3\n",
      "1   4  10   18\n",
      "2  28  80  162\n",
      "\n",
      "DataFrame with 1 subtracted:\n",
      "    A  B  C\n",
      "0  0  1  2\n",
      "1  3  4  5\n",
      "2  6  7  8\n"
     ]
    }
   ],
   "source": [
    "# Create the DataFrame\n",
    "data = {'A': [1, 4, 7], 'B': [2, 5, 8], 'C': [3, 6, 9]}\n",
    "df = pd.DataFrame(data)\n",
    "\n",
    "print(\"Original DataFrame:\\n\", df)\n",
    "\n",
    "# Calculate the cumulative sum\n",
    "cumulative_sum = df.cumsum()\n",
    "print(\"\\nCumulative Sum:\\n\", cumulative_sum)\n",
    "\n",
    "# Calculate the cumulative product\n",
    "cumulative_product = df.cumprod()\n",
    "print(\"\\nCumulative Product:\\n\", cumulative_product)\n",
    "\n",
    "# Apply a function to subtract 1 from all elements\n",
    "def subtract_one(x):\n",
    "    return x - 1\n",
    "\n",
    "df_subtracted = df.applymap(subtract_one)\n",
    "print(\"\\nDataFrame with 1 subtracted:\\n\", df_subtracted)"
   ]
  }
 ],
 "metadata": {
  "kernelspec": {
   "display_name": "Python 3",
   "language": "python",
   "name": "python3"
  },
  "language_info": {
   "codemirror_mode": {
    "name": "ipython",
    "version": 3
   },
   "file_extension": ".py",
   "mimetype": "text/x-python",
   "name": "python",
   "nbconvert_exporter": "python",
   "pygments_lexer": "ipython3",
   "version": "3.8.10"
  }
 },
 "nbformat": 4,
 "nbformat_minor": 2
}
